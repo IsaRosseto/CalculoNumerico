{
 "cells": [
  {
   "cell_type": "markdown",
   "id": "4f6dbb54",
   "metadata": {},
   "source": [
    "# Notebook: Integração Numérica Passo a Passo com Exemplos Adicionais"
   ]
  },
  {
   "cell_type": "markdown",
   "id": "beda1acd",
   "metadata": {},
   "source": [
    "## Introdução à Integração Numérica\n",
    "\n",
    "A integração numérica é uma técnica usada para calcular a integral definida de uma função quando não é possível calcular a integral analiticamente. Ela é muito útil em situações onde temos funções complicadas ou quando temos dados empíricos que representam a função e não temos uma expressão fechada para integrá-la.\n",
    "\n",
    "Existem vários métodos para calcular integrais numericamente, sendo os mais comuns o **método do Trapézio** e a **Regra de Simpson**. Neste notebook, vamos aprender a realizar integrações numéricas usando Python e a biblioteca `scipy`. Vamos explicar cada etapa de forma detalhada para que qualquer pessoa possa entender como a integração numérica funciona."
   ]
  },
  {
   "cell_type": "markdown",
   "id": "fa23c9df",
   "metadata": {},
   "source": [
    "## Importando as Bibliotecas Necessárias"
   ]
  },
  {
   "cell_type": "code",
   "execution_count": null,
   "id": "2049bc2c",
   "metadata": {},
   "outputs": [],
   "source": [
    "import numpy as np\n",
    "from scipy import integrate\n",
    "import matplotlib.pyplot as plt"
   ]
  },
  {
   "cell_type": "markdown",
   "id": "94f6feda",
   "metadata": {},
   "source": [
    "## Definindo a Função\n",
    "\n",
    "Vamos começar definindo a função que queremos integrar. Vamos usar uma função simples como exemplo:\n",
    "\n",
    "- f(x) = x^2 + 2x + 1\n",
    "\n",
    "### Importante: \n",
    "- **Alterar a Função**: Caso você deseje usar outra função, você pode modificar a definição da função `f` no código abaixo."
   ]
  },
  {
   "cell_type": "code",
   "execution_count": null,
   "id": "e1572321",
   "metadata": {},
   "outputs": [],
   "source": [
    "# Definindo a função a ser integrada\n",
    "def f(x):\n",
    "    return x**2 + 2*x + 1"
   ]
  },
  {
   "cell_type": "markdown",
   "id": "b2a079d1",
   "metadata": {},
   "source": [
    "## Visualizando a Função\n",
    "\n",
    "Antes de aplicar qualquer método numérico, é sempre uma boa ideia visualizar a função para ter uma ideia da área que será calculada. Vamos plotar a função para ver como ela se comporta no intervalo de interesse."
   ]
  },
  {
   "cell_type": "code",
   "execution_count": null,
   "id": "08b7f46a",
   "metadata": {},
   "outputs": [],
   "source": [
    "# Definindo o intervalo para visualização\n",
    "x = np.linspace(-5, 5, 400)\n",
    "y = f(x)\n",
    "\n",
    "# Plotando a função\n",
    "plt.plot(x, y, label='f(x) = x^2 + 2x + 1', color='blue')\n",
    "plt.xlabel('x')\n",
    "plt.ylabel('f(x)')\n",
    "plt.title('Visualização da Função')\n",
    "plt.grid(True)\n",
    "plt.legend()\n",
    "plt.show()"
   ]
  },
  {
   "cell_type": "markdown",
   "id": "30e8a8d3",
   "metadata": {},
   "source": [
    "## Método do Trapézio\n",
    "\n",
    "O **método do Trapézio** é uma técnica de integração numérica que aproxima a área sob a curva da função como uma série de trapézios. Este método é bastante intuitivo e fácil de implementar.\n",
    "\n",
    "### Fórmula do Método do Trapézio:\n",
    "- Para um intervalo [a, b], a fórmula básica é dada por:\n",
    "  \n",
    "  \\[ \\int_a^b f(x) dx \\approx \\frac{b - a}{2} (f(a) + f(b)) \\]\n",
    "\n",
    "Vamos implementar o método do Trapézio para um exemplo."
   ]
  },
  {
   "cell_type": "code",
   "execution_count": null,
   "id": "e67add9f",
   "metadata": {},
   "outputs": [],
   "source": [
    "# Definindo os limites de integração\n",
    "a = 0  # Limite inferior\n",
    "b = 4  # Limite superior\n",
    "\n",
    "# Aplicando o método do Trapézio\n",
    "resultado_trapezio, erro = integrate.quad(f, a, b)\n",
    "\n",
    "print(f\"Resultado da integração pelo método do Trapézio: {resultado_trapezio:.4f}\")"
   ]
  },
  {
   "cell_type": "markdown",
   "id": "7b7c5645",
   "metadata": {},
   "source": [
    "### Explicação dos Parâmetros\n",
    "- **a**: Limite inferior da integração. Altere este valor para mudar o ponto inicial.\n",
    "- **b**: Limite superior da integração. Altere este valor para mudar o ponto final.\n",
    "\n",
    "O método do Trapézio calcula a área aproximada sob a curva usando a biblioteca `scipy.integrate.quad`, que é uma forma eficiente de calcular integrais definidas."
   ]
  },
  {
   "cell_type": "markdown",
   "id": "4aef68e1",
   "metadata": {},
   "source": [
    "## Regra de Simpson\n",
    "\n",
    "A **Regra de Simpson** é outra técnica de integração numérica que usa parábolas para aproximar a área sob a curva. Este método é geralmente mais preciso que o método do Trapézio para uma mesma quantidade de subintervalos.\n",
    "\n",
    "### Fórmula da Regra de Simpson:\n",
    "- Para um intervalo [a, b] dividido em `n` subintervalos, a fórmula básica é dada por:\n",
    "  \n",
    "  \\[ \\int_a^b f(x) dx \\approx \\frac{b - a}{6} (f(a) + 4f(m) + f(b)) \\]\n",
    "\n",
    "Vamos implementar a Regra de Simpson para o mesmo exemplo."
   ]
  },
  {
   "cell_type": "code",
   "execution_count": null,
   "id": "2e076f87",
   "metadata": {},
   "outputs": [],
   "source": [
    "# Aplicando a Regra de Simpson\n",
    "n = 100  # Número de subintervalos\n",
    "x_simpson = np.linspace(a, b, n)\n",
    "y_simpson = f(x_simpson)\n",
    "\n",
    "resultado_simpson = integrate.simps(y_simpson, x_simpson)\n",
    "\n",
    "print(f\"Resultado da integração pela Regra de Simpson: {resultado_simpson:.4f}\")"
   ]
  },
  {
   "cell_type": "markdown",
   "id": "8158443d",
   "metadata": {},
   "source": [
    "### Explicação dos Parâmetros\n",
    "- **n**: Número de subintervalos para a integração. Quanto maior o valor de `n`, mais precisa será a integração, porém, aumentará o tempo de execução.\n",
    "\n",
    "A função `scipy.integrate.simps` é usada para aplicar a Regra de Simpson e calcular a área sob a curva."
   ]
  },
  {
   "cell_type": "markdown",
   "id": "ae00f58e",
   "metadata": {},
   "source": [
    "## Exercícios Adicionais\n",
    "\n",
    "### Exercício 1: Método do Trapézio\n",
    "Calcule a integral da função `f(x) = sin(x)` no intervalo `[0, π]` usando o método do Trapézio."
   ]
  },
  {
   "cell_type": "code",
   "execution_count": null,
   "id": "4b6f2ab0",
   "metadata": {},
   "outputs": [],
   "source": [
    "import math\n",
    "# Definindo a função\n",
    "def g(x):\n",
    "    return np.sin(x)\n",
    "\n",
    "# Definindo os limites de integração\n",
    "a_ex1 = 0\n",
    "b_ex1 = math.pi\n",
    "\n",
    "# Aplicando o método do Trapézio\n",
    "resultado_ex1, erro_ex1 = integrate.quad(g, a_ex1, b_ex1)\n",
    "\n",
    "print(f\"Resultado da integração da função sin(x) no intervalo [0, π]: {resultado_ex1:.4f}\")"
   ]
  },
  {
   "cell_type": "markdown",
   "id": "16b60b7d",
   "metadata": {},
   "source": [
    "### Exercício 2: Regra de Simpson\n",
    "Calcule a integral da função `f(x) = cos(x)` no intervalo `[0, π/2]` usando a Regra de Simpson."
   ]
  },
  {
   "cell_type": "code",
   "execution_count": null,
   "id": "b3b7861d",
   "metadata": {},
   "outputs": [],
   "source": [
    "# Definindo a função\n",
    "def h(x):\n",
    "    return np.cos(x)\n",
    "\n",
    "# Definindo os limites de integração\n",
    "a_ex2 = 0\n",
    "b_ex2 = math.pi / 2\n",
    "\n",
    "# Definindo o número de subintervalos\n",
    "n_ex2 = 50\n",
    "\n",
    "# Aplicando a Regra de Simpson\n",
    "x_simpson_ex2 = np.linspace(a_ex2, b_ex2, n_ex2)\n",
    "y_simpson_ex2 = h(x_simpson_ex2)\n",
    "\n",
    "resultado_ex2 = integrate.simps(y_simpson_ex2, x_simpson_ex2)\n",
    "\n",
    "print(f\"Resultado da integração da função cos(x) no intervalo [0, π/2]: {resultado_ex2:.4f}\")"
   ]
  },
  {
   "cell_type": "markdown",
   "id": "2e8833f6",
   "metadata": {},
   "source": [
    "### Exercício 3: Integração de Funções Exponenciais\n",
    "Calcule a integral da função `f(x) = e^x` no intervalo `[1, 3]` usando a Regra do Trapézio e a Regra de Simpson."
   ]
  },
  {
   "cell_type": "code",
   "execution_count": null,
   "id": "360fe36d",
   "metadata": {},
   "outputs": [],
   "source": [
    "# Definindo a função exponencial\n",
    "def exp_func(x):\n",
    "    return np.exp(x)\n",
    "\n",
    "# Definindo os limites de integração\n",
    "a_ex3 = 1\n",
    "b_ex3 = 3\n",
    "\n",
    "# Aplicando o método do Trapézio\n",
    "resultado_ex3_trap, erro_ex3_trap = integrate.quad(exp_func, a_ex3, b_ex3)\n",
    "\n",
    "print(f\"Resultado da integração da função e^x no intervalo [1, 3] pelo método do Trapézio: {resultado_ex3_trap:.4f}\")\n",
    "\n",
    "# Aplicando a Regra de Simpson\n",
    "x_simpson_ex3 = np.linspace(a_ex3, b_ex3, 100)\n",
    "y_simpson_ex3 = exp_func(x_simpson_ex3)\n",
    "\n",
    "resultado_ex3_simpson = integrate.simps(y_simpson_ex3, x_simpson_ex3)\n",
    "\n",
    "print(f\"Resultado da integração da função e^x no intervalo [1, 3] pela Regra de Simpson: {resultado_ex3_simpson:.4f}\")"
   ]
  },
  {
   "cell_type": "markdown",
   "id": "69cb2b6a",
   "metadata": {},
   "source": [
    "## Conclusão\n",
    "\n",
    "Neste notebook, aprendemos como:\n",
    "1. Definir uma função e visualizar seu gráfico.\n",
    "2. Aplicar o método do Trapézio para calcular a integral definida de uma função.\n",
    "3. Aplicar a Regra de Simpson para calcular a integral definida de uma função.\n",
    "4. Resolver exercícios práticos para reforçar o aprendizado, incluindo integrais de funções trigonométricas e exponenciais.\n",
    "\n",
    "### Onde Alterar para Outros Exemplos\n",
    "- **Função**: Modifique a definição da função `f(x)` para testar outros casos.\n",
    "- **Limites de Integração**: Altere os valores de `a` e `b` para definir um intervalo diferente.\n",
    "\n",
    "Espero que este notebook tenha sido útil para você entender como funciona a integração numérica! Se precisar de mais exemplos ou alguma explicação adicional, é só pedir."
   ]
  }
 ],
 "metadata": {},
 "nbformat": 4,
 "nbformat_minor": 5
}
