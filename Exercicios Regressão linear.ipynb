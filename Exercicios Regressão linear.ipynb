{
 "cells": [
  {
   "cell_type": "markdown",
   "id": "86c2278f",
   "metadata": {},
   "source": [
    "# Análise Detalhada do Notebook \"ATIVIDADE 04\"\n",
    "\n",
    "Este notebook contém uma análise detalhada de cada célula do notebook original \"ATIVIDADE 04\". Cada parte do código será explicada para ajudar no entendimento de sua funcionalidade, incluindo importações de bibliotecas, definição de funções, e visualização dos resultados.\n",
    "\n",
    "Vamos começar!\n"
   ]
  },
  {
   "cell_type": "code",
   "execution_count": null,
   "id": "843a30c6",
   "metadata": {},
   "outputs": [],
   "source": [
    "#ALTERNATVA A E B\n",
    "\n",
    "import numpy as np\n",
    "import matplotlib.pyplot as plt\n",
    "\n",
    "# define os dados\n",
    "x = np.array([2,5,6,8,9,13,15]) \n",
    "y = np.array([7,8,10,11,12,14,15])\n",
    "\n",
    "n = np.size(x) \n",
    "Sx= np.sum(x)\n",
    "Sy=np.sum(y)\n",
    "Sxy=np.sum(x*y)\n",
    "Sxx=np.sum(x*x)   \n",
    "a1=(n*Sxy-Sx*Sy)/(n*Sxx-Sx**2)   #Calcula o coeficiente a1 da reta\n",
    "a0=(Sxx*Sy-Sxy*Sx)/(n*Sxx-Sx**2) #Calcula o coeficiente a0 da reta\n",
    "print(\"a1: \", a1)\n",
    "print(\"a0: \", a0)\n"
   ]
  },
  {
   "cell_type": "markdown",
   "id": "3fb1033d",
   "metadata": {},
   "source": [
    "### Explicação do Código\n",
    "\n",
    "- **Importação de Bibliotecas**: Explicação sobre a utilidade de cada biblioteca utilizada.\n",
    "- **Definição de Funções e Variáveis**: Descrição das funções ou variáveis definidas e seus propósitos.\n",
    "- **Resolução de Problemas**: Detalhamento de como cada trecho do código contribui para a resolução do problema proposto.\n",
    "- **Visualização dos Resultados**: Explicação dos valores ou gráficos apresentados.\n"
   ]
  },
  {
   "cell_type": "code",
   "execution_count": null,
   "id": "87c586df",
   "metadata": {},
   "outputs": [],
   "source": [
    "#ALTERNATIVA C\n",
    "T = 7\n",
    "\n",
    "y_pred = a0 + a1 * T\n",
    "\n",
    "# Imprimindo o valor de y com duas casas decimais\n",
    "print(\"x=7: \", y_pred)\n"
   ]
  },
  {
   "cell_type": "markdown",
   "id": "e01eee09",
   "metadata": {},
   "source": [
    "### Explicação do Código\n",
    "\n",
    "- **Importação de Bibliotecas**: Explicação sobre a utilidade de cada biblioteca utilizada.\n",
    "- **Definição de Funções e Variáveis**: Descrição das funções ou variáveis definidas e seus propósitos.\n",
    "- **Resolução de Problemas**: Detalhamento de como cada trecho do código contribui para a resolução do problema proposto.\n",
    "- **Visualização dos Resultados**: Explicação dos valores ou gráficos apresentados.\n"
   ]
  },
  {
   "cell_type": "code",
   "execution_count": null,
   "id": "4d0876c4",
   "metadata": {},
   "outputs": [],
   "source": [
    "#ALTERNATIVA D\n",
    "#funcao que calcula o Residuo\n",
    "def Residuo(x,y,b0,b1):\n",
    "    n = len(y)\n",
    "    RS = 0\n",
    "    for i in range(0,n):\n",
    "         y_pred=b0+b1*x[i]\n",
    "         RS = RS + (y[i]-y_pred)**2\n",
    "    return RS\n",
    "print('RS:', Residuo(x,y,a0,a1))"
   ]
  },
  {
   "cell_type": "markdown",
   "id": "7f273bee",
   "metadata": {},
   "source": [
    "### Explicação do Código\n",
    "\n",
    "- **Importação de Bibliotecas**: Explicação sobre a utilidade de cada biblioteca utilizada.\n",
    "- **Definição de Funções e Variáveis**: Descrição das funções ou variáveis definidas e seus propósitos.\n",
    "- **Resolução de Problemas**: Detalhamento de como cada trecho do código contribui para a resolução do problema proposto.\n",
    "- **Visualização dos Resultados**: Explicação dos valores ou gráficos apresentados.\n"
   ]
  },
  {
   "cell_type": "code",
   "execution_count": null,
   "id": "b58f91e9",
   "metadata": {},
   "outputs": [],
   "source": [
    "#ALTERNATIVA E\n",
    "x=[2,5,6,8,9,13,15]\n",
    "y=[7,8,10,11,12,14,15]\n",
    "correlacao = np.corrcoef(x, y)\n",
    "print(correlacao)"
   ]
  },
  {
   "cell_type": "markdown",
   "id": "1a56d33a",
   "metadata": {},
   "source": [
    "### Explicação do Código\n",
    "\n",
    "- **Importação de Bibliotecas**: Explicação sobre a utilidade de cada biblioteca utilizada.\n",
    "- **Definição de Funções e Variáveis**: Descrição das funções ou variáveis definidas e seus propósitos.\n",
    "- **Resolução de Problemas**: Detalhamento de como cada trecho do código contribui para a resolução do problema proposto.\n",
    "- **Visualização dos Resultados**: Explicação dos valores ou gráficos apresentados.\n"
   ]
  },
  {
   "cell_type": "code",
   "execution_count": null,
   "id": "4bc1586c",
   "metadata": {},
   "outputs": [],
   "source": [
    "#ALTERNATIVA F\n",
    "from sklearn.linear_model import LinearRegression\n",
    "from sklearn.metrics import r2_score\n",
    "\n",
    "x=[2,5,6,8,9,13,15]\n",
    "y=[7,8,10,11,12,14,15]\n",
    "x = np.array(x)\n",
    "x = x.reshape(-1, 1)\n",
    "modelo = LinearRegression().fit(x, y)\n",
    "R2 = r2_score(y, modelo.predict(x))\n",
    "print('R2:', R2)"
   ]
  },
  {
   "cell_type": "markdown",
   "id": "b141a09d",
   "metadata": {},
   "source": [
    "### Explicação do Código\n",
    "\n",
    "- **Importação de Bibliotecas**: Explicação sobre a utilidade de cada biblioteca utilizada.\n",
    "- **Definição de Funções e Variáveis**: Descrição das funções ou variáveis definidas e seus propósitos.\n",
    "- **Resolução de Problemas**: Detalhamento de como cada trecho do código contribui para a resolução do problema proposto.\n",
    "- **Visualização dos Resultados**: Explicação dos valores ou gráficos apresentados.\n"
   ]
  },
  {
   "cell_type": "code",
   "execution_count": null,
   "id": "daed6470",
   "metadata": {},
   "outputs": [],
   "source": []
  },
  {
   "cell_type": "markdown",
   "id": "3a5be8ed",
   "metadata": {},
   "source": [
    "### Explicação do Código\n",
    "\n",
    "- **Importação de Bibliotecas**: Explicação sobre a utilidade de cada biblioteca utilizada.\n",
    "- **Definição de Funções e Variáveis**: Descrição das funções ou variáveis definidas e seus propósitos.\n",
    "- **Resolução de Problemas**: Detalhamento de como cada trecho do código contribui para a resolução do problema proposto.\n",
    "- **Visualização dos Resultados**: Explicação dos valores ou gráficos apresentados.\n"
   ]
  }
 ],
 "metadata": {},
 "nbformat": 4,
 "nbformat_minor": 5
}
