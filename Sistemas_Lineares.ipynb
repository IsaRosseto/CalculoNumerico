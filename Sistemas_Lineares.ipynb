{
 "cells": [
  {
   "cell_type": "markdown",
   "id": "5ac2c544",
   "metadata": {},
   "source": [
    "# Notebook: Resolvendo Sistemas Lineares Passo a Passo"
   ]
  },
  {
   "cell_type": "markdown",
   "id": "6aa6a092",
   "metadata": {},
   "source": [
    "## Introdução ao Problema\n",
    "\n",
    "Sistemas lineares são conjuntos de equações lineares que queremos resolver para encontrar os valores das variáveis envolvidas. Neste notebook, vamos aprender como resolver sistemas lineares de forma detalhada, utilizando Python e a biblioteca `numpy`. Vamos explicar cada etapa, para que mesmo um iniciante possa acompanhar o processo.\n",
    "\n",
    "Vamos usar o exemplo a seguir para resolver um sistema linear de duas equações com duas variáveis:\n",
    "\n",
    "- 3x + 4y = 7\n",
    "- 2x - y = 1\n",
    "\n",
    "Iremos resolver esse sistema utilizando a função `numpy.linalg.solve()`, mas também explicaremos como montar a matriz de coeficientes e o vetor dos termos independentes."
   ]
  },
  {
   "cell_type": "code",
   "execution_count": null,
   "id": "27f8e6f2",
   "metadata": {},
   "outputs": [],
   "source": [
    "import numpy as np"
   ]
  },
  {
   "cell_type": "markdown",
   "id": "034c6623",
   "metadata": {},
   "source": [
    "## Definindo o Sistema Linear\n",
    "\n",
    "Para resolver um sistema linear, precisamos definir:\n",
    "\n",
    "1. **A matriz de coeficientes** (que contém os coeficientes das variáveis nas equações).\n",
    "2. **O vetor de termos independentes** (que contém os valores do lado direito das equações).\n",
    "\n",
    "Para o nosso exemplo, as equações são:\n",
    "\n",
    "- 3x + 4y = 7\n",
    "- 2x - y = 1\n",
    "\n",
    "Podemos representar isso como:\n",
    "\n",
    "- Matriz de coeficientes: \n",
    "  ```\n",
    "  A = [[3, 4],\n",
    "       [2, -1]]\n",
    "  ```\n",
    "- Vetor de termos independentes: \n",
    "  ```\n",
    "  B = [7, 1]\n",
    "  ```"
   ]
  },
  {
   "cell_type": "code",
   "execution_count": null,
   "id": "c28e788d",
   "metadata": {},
   "outputs": [],
   "source": [
    "# Definindo a matriz de coeficientes A\n",
    "A = np.array([[3, 4], [2, -1]])\n",
    "\n",
    "# Definindo o vetor de termos independentes B\n",
    "B = np.array([7, 1])"
   ]
  },
  {
   "cell_type": "markdown",
   "id": "3ca186fd",
   "metadata": {},
   "source": [
    "### Importante:\n",
    "- **Matriz de Coeficientes (A)**: Cada linha da matriz corresponde a uma equação, e cada coluna corresponde a um coeficiente de uma das variáveis.\n",
    "- **Vetor de Termos Independentes (B)**: Cada valor do vetor corresponde ao termo constante de cada equação.\n",
    "\n",
    "> **Dica:** Se o sistema linear mudar, você deve atualizar a matriz `A` e o vetor `B` de acordo com os novos coeficientes e valores."
   ]
  },
  {
   "cell_type": "markdown",
   "id": "314b5433",
   "metadata": {},
   "source": [
    "## Resolvendo o Sistema Linear"
   ]
  },
  {
   "cell_type": "code",
   "execution_count": null,
   "id": "799868ae",
   "metadata": {},
   "outputs": [],
   "source": [
    "# Resolvendo o sistema linear\n",
    "solucao = np.linalg.solve(A, B)\n",
    "\n",
    "# Imprimindo a solução\n",
    "print(\"Solução do sistema:\", solucao)"
   ]
  },
  {
   "cell_type": "markdown",
   "id": "af5c08b2",
   "metadata": {},
   "source": [
    "### Explicação Detalhada:\n",
    "- **`np.linalg.solve(A, B)`**: Esta função resolve o sistema linear representado pela matriz `A` e o vetor `B`. Ela retorna um vetor com os valores das variáveis (no nosso caso, `x` e `y`).\n",
    "\n",
    "> **Dica:** Caso você altere os valores das equações, lembre-se de ajustar `A` e `B` antes de chamar a função `solve` novamente."
   ]
  },
  {
   "cell_type": "markdown",
   "id": "7fe8d945",
   "metadata": {},
   "source": [
    "## Verificando a Solução"
   ]
  },
  {
   "cell_type": "code",
   "execution_count": null,
   "id": "f7a48866",
   "metadata": {},
   "outputs": [],
   "source": [
    "# Extraindo os valores de x e y da solução\n",
    "x, y = solucao\n",
    "\n",
    "# Verificando as equações\n",
    "eq1 = 3 * x + 4 * y\n",
    "eq2 = 2 * x - y\n",
    "\n",
    "print(\"Resultado da primeira equação:\", eq1)\n",
    "print(\"Resultado da segunda equação:\", eq2)"
   ]
  },
  {
   "cell_type": "markdown",
   "id": "e878acf2",
   "metadata": {},
   "source": [
    "## Exemplos de Exercícios\n",
    "\n",
    "### Exercício 1:\n",
    "Resolva o seguinte sistema linear:\n",
    "\n",
    "- 5x + 2y = 10\n",
    "- 3x - y = 5\n",
    "\n",
    "#### Passo a Passo:\n",
    "1. Defina a matriz de coeficientes `A` e o vetor de termos independentes `B`."
   ]
  },
  {
   "cell_type": "code",
   "execution_count": null,
   "id": "81c90a23",
   "metadata": {},
   "outputs": [],
   "source": [
    "A = np.array([[5, 2], [3, -1]])\n",
    "B = np.array([10, 5])\n",
    "\n",
    "# Resolva o sistema utilizando numpy.linalg.solve\n",
    "solucao_ex1 = np.linalg.solve(A, B)\n",
    "print(\"Solução do sistema (Exercício 1):\", solucao_ex1)"
   ]
  },
  {
   "cell_type": "markdown",
   "id": "d29d958c",
   "metadata": {},
   "source": [
    "## Conclusão"
   ]
  },
  {
   "cell_type": "markdown",
   "id": "411a1671",
   "metadata": {},
   "source": [
    "Neste notebook, aprendemos como:\n",
    "1. Definir a matriz de coeficientes e o vetor de termos independentes para um sistema linear.\n",
    "2. Resolver o sistema utilizando `numpy.linalg.solve()`.\n",
    "3. Verificar a solução encontrada.\n",
    "4. Resolver exercícios práticos para reforçar o aprendizado."
   ]
  }
 ],
 "metadata": {},
 "nbformat": 4,
 "nbformat_minor": 5
}
