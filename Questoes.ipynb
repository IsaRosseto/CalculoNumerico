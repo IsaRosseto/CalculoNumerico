{
 "cells": [
  {
   "cell_type": "markdown",
   "id": "736d0054",
   "metadata": {},
   "source": [
    "# Questão 4: Regressão Linear e Correlação de Pearson"
   ]
  },
  {
   "cell_type": "markdown",
   "id": "54e9bbda",
   "metadata": {},
   "source": [
    "## Enunciado\n",
    "A partir dos dados fornecidos de x e y, calcule o coeficiente de correlação de Pearson e determine os coeficientes a e b da reta de regressão linear (y = ax + b)."
   ]
  },
  {
   "cell_type": "markdown",
   "id": "dbd7331a",
   "metadata": {},
   "source": [
    "## Teoria\n",
    "A regressão linear é uma técnica estatística usada para modelar a relação entre uma variável dependente (y) e uma variável independente (x). \n",
    "A fórmula da regressão linear é y = ax + b, onde 'a' é a declividade da reta e 'b' é o ponto de intercepto.\n",
    "\n",
    "Já o coeficiente de correlação de Pearson mede o grau de relação linear entre duas variáveis, variando entre -1 e 1, onde:\n",
    "- 1 indica uma correlação positiva perfeita\n",
    "- 0 indica que não há correlação\n",
    "- -1 indica uma correlação negativa perfeita"
   ]
  },
  {
   "cell_type": "code",
   "execution_count": null,
   "id": "ff6df8d0",
   "metadata": {},
   "outputs": [],
   "source": [
    "\n",
    "import numpy as np\n",
    "import matplotlib.pyplot as plt\n",
    "\n",
    "# ## Definindo os Dados\n",
    "# Definimos os dados que serão utilizados para calcular a regressão linear e a correlação de Pearson.\n",
    "x = np.array([1, 2, 3, 4])\n",
    "y = np.array([4.1, 0.6, 0.3, 3.2])\n"
   ]
  },
  {
   "cell_type": "markdown",
   "id": "bc58a274",
   "metadata": {},
   "source": [
    "## Passo a Passo para Calcular os Coeficientes da Reta de Regressão Linear (y = a1 * x + a0)"
   ]
  },
  {
   "cell_type": "code",
   "execution_count": null,
   "id": "0dc3ab0e",
   "metadata": {},
   "outputs": [],
   "source": [
    "\n",
    "# 1. Calcular o número de pontos (n)\n",
    "n = np.size(x)\n",
    "# 2. Calcular a soma dos valores de x (Sx)\n",
    "Sx = np.sum(x)\n",
    "# 3. Calcular a soma dos valores de y (Sy)\n",
    "Sy = np.sum(y)\n",
    "# 4. Calcular a soma dos produtos de x e y (Sxy)\n",
    "Sxy = np.sum(x * y)\n",
    "# 5. Calcular a soma dos quadrados de x (Sxx)\n",
    "Sxx = np.sum(x * x)\n",
    "\n",
    "# 6. Calcular o coeficiente a1 (declividade da reta)\n",
    "a1 = (n * Sxy - Sx * Sy) / (n * Sxx - Sx ** 2)  # Declividade (a1)\n",
    "# 7. Calcular o coeficiente a0 (intercepto da reta)\n",
    "a0 = (Sxx * Sy - Sxy * Sx) / (n * Sxx - Sx ** 2)  # Intercepto (a0)\n",
    "\n",
    "# ## Resultados\n",
    "print(f\"Coeficiente a1 (declividade da reta): {a1:.2f}\")\n",
    "print(f\"Coeficiente a0 (intercepto da reta): {a0:.2f}\")\n"
   ]
  },
  {
   "cell_type": "markdown",
   "id": "c0f15507",
   "metadata": {},
   "source": [
    "## Visualização da Regressão Linear"
   ]
  },
  {
   "cell_type": "code",
   "execution_count": null,
   "id": "d92916a5",
   "metadata": {},
   "outputs": [],
   "source": [
    "\n",
    "# Vamos visualizar os dados e a linha de regressão.\n",
    "plt.scatter(x, y, color='blue', label='Dados originais')\n",
    "plt.plot(x, a1 * x + a0, color='red', label=f'Regressão Linear: y = {a1:.2f}x + {a0:.2f}')\n",
    "plt.xlabel('x')\n",
    "plt.ylabel('y')\n",
    "plt.legend()\n",
    "plt.title('Regressão Linear dos Dados')\n",
    "plt.grid(True)\n",
    "plt.show()\n"
   ]
  },
  {
   "cell_type": "markdown",
   "id": "aeea9db0",
   "metadata": {},
   "source": [
    "## Cálculo do Coeficiente de Correlação de Pearson"
   ]
  },
  {
   "cell_type": "code",
   "execution_count": null,
   "id": "faa60fbb",
   "metadata": {},
   "outputs": [],
   "source": [
    "\n",
    "# Para calcular a correlação de Pearson:\n",
    "# 1. Utilizar a função `np.corrcoef()` para obter a matriz de correlação.\n",
    "# 2. Extrair o valor desejado da matriz (posição [0, 1] ou [1, 0]).\n",
    "correlacao = np.corrcoef(x, y)[0, 1]\n",
    "print(f\"Coeficiente de correlação de Pearson: {correlacao:.2f}\")\n"
   ]
  },
  {
   "cell_type": "markdown",
   "id": "5735616b",
   "metadata": {},
   "source": [
    "# Questão 2: Preço das Mudas de Flores"
   ]
  },
  {
   "cell_type": "markdown",
   "id": "fdf1f93b",
   "metadata": {},
   "source": [
    "## Enunciado\n",
    "Num projeto de jardinagem serão usadas 3 tipos de flores: rosas, cravos e petúnias, que são vendidas em caixas de 20 mudas cada. Comprando, respectivamente:\n",
    "- (a) 10, 15 e 20 caixas, o gasto será de R$610,00;\n",
    "- (b) 10, 20 e 10 caixas, o gasto será de R$580,00;\n",
    "- (c) 30, 10 e 5 caixas, o gasto será de R$790,00.\n",
    "\n",
    "Calcular o preço da muda de cada flor."
   ]
  },
  {
   "cell_type": "markdown",
   "id": "268c928f",
   "metadata": {},
   "source": [
    "## Teoria\n",
    "Este é um exemplo clássico de sistema de equações lineares. Cada equação representa o custo total de comprar uma determinada quantidade de cada tipo de flor. Podemos resolver este sistema utilizando métodos algébricos, como a eliminação de Gauss, ou, de forma mais prática, utilizando o método `np.linalg.solve()` do NumPy."
   ]
  },
  {
   "cell_type": "code",
   "execution_count": null,
   "id": "3d72bb7a",
   "metadata": {},
   "outputs": [],
   "source": [
    "\n",
    "# ## Definindo os Dados do Sistema de Equações\n",
    "quantidades = np.array([\n",
    "    [10, 15, 20],\n",
    "    [10, 20, 10],\n",
    "    [30, 10, 5]\n",
    "])\n",
    "\n",
    "valores = np.array([610, 580, 790])\n"
   ]
  },
  {
   "cell_type": "markdown",
   "id": "ccf1b144",
   "metadata": {},
   "source": [
    "## Resolvendo o Sistema Linear"
   ]
  },
  {
   "cell_type": "code",
   "execution_count": null,
   "id": "2f8db793",
   "metadata": {},
   "outputs": [],
   "source": [
    "\n",
    "# Utilizamos a função `np.linalg.solve()` para encontrar os preços unitários.\n",
    "unitario = np.linalg.solve(quantidades, valores)\n",
    "\n",
    "# ## Resultado\n",
    "# Preço por muda (dividindo o valor encontrado pelo número de mudas por caixa)\n",
    "print(f\"Preço por muda de rosa: R${unitario[0] / 20:.2f}\")\n",
    "print(f\"Preço por muda de cravo: R${unitario[1] / 20:.2f}\")\n",
    "print(f\"Preço por muda de petúnia: R${unitario[2] / 20:.2f}\")\n"
   ]
  },
  {
   "cell_type": "markdown",
   "id": "da5e9dfd",
   "metadata": {},
   "source": [
    "## Instruções para Modificar Variáveis para Outros Exercícios\n",
    "- Para alterar os valores de x e y na regressão linear, simplesmente modifique as listas `x` e `y` no início do código.\n",
    "- Para resolver problemas similares com diferentes tipos de flores ou quantidades, altere a matriz `quantidades` e o vetor `valores` conforme necessário.\n",
    "- Certifique-se de que a matriz `quantidades` seja quadrada e compatível com o vetor `valores` para que a função `np.linalg.solve()` funcione corretamente."
   ]
  }
 ],
 "metadata": {},
 "nbformat": 4,
 "nbformat_minor": 5
}
