{
 "cells": [
  {
   "cell_type": "markdown",
   "id": "ff1b1eeb",
   "metadata": {},
   "source": [
    "# Notebook: Encontro dos Zeros de Funções Passo a Passo"
   ]
  },
  {
   "cell_type": "markdown",
   "id": "286d173d",
   "metadata": {},
   "source": [
    "## Introdução ao Problema\n",
    "\n",
    "Encontrar os zeros de uma função significa encontrar os valores de `x` para os quais a função se iguala a zero. Ou seja, estamos buscando os pontos em que a curva da função cruza o eixo `x`. Esses pontos são chamados de raízes ou zeros da função.\n",
    "\n",
    "Neste notebook, vamos aprender a encontrar os zeros de uma função utilizando métodos numéricos, como o método da bisseção e o método de Newton-Raphson. Vamos explicar cada etapa de forma detalhada, para que mesmo um iniciante possa acompanhar o processo."
   ]
  },
  {
   "cell_type": "markdown",
   "id": "dfb543d9",
   "metadata": {},
   "source": [
    "## Importando as Bibliotecas Necessárias"
   ]
  },
  {
   "cell_type": "code",
   "execution_count": null,
   "id": "5efa9d30",
   "metadata": {},
   "outputs": [],
   "source": [
    "import numpy as np\n",
    "import matplotlib.pyplot as plt"
   ]
  },
  {
   "cell_type": "markdown",
   "id": "bd1eef39",
   "metadata": {},
   "source": [
    "## Definindo a Função\n",
    "\n",
    "Para encontrar os zeros de uma função, primeiro precisamos definir qual é essa função. Vamos usar a seguinte função como exemplo:\n",
    "\n",
    "- f(x) = x^2 - 4\n",
    "\n",
    "### Importante: \n",
    "- **Alterar a Função**: Se desejar usar uma função diferente, basta modificar a definição da função `f` no código abaixo."
   ]
  },
  {
   "cell_type": "code",
   "execution_count": null,
   "id": "f83aa403",
   "metadata": {},
   "outputs": [],
   "source": [
    "# Definindo a função para encontrar os zeros\n",
    "def f(x):\n",
    "    return x**2 - 4"
   ]
  },
  {
   "cell_type": "markdown",
   "id": "0dc60495",
   "metadata": {},
   "source": [
    "## Visualizando a Função\n",
    "\n",
    "Antes de aplicar qualquer método numérico, é sempre uma boa ideia visualizar a função para ter uma noção dos seus zeros. Vamos plotar a função para ver onde ela cruza o eixo `x`."
   ]
  },
  {
   "cell_type": "code",
   "execution_count": null,
   "id": "187cf40b",
   "metadata": {},
   "outputs": [],
   "source": [
    "x = np.linspace(-5, 5, 400)\n",
    "y = f(x)\n",
    "\n",
    "# Plotando a função\n",
    "plt.axhline(0, color='black', linewidth=0.5)\n",
    "plt.plot(x, y, label='f(x) = x^2 - 4')\n",
    "plt.xlabel('x')\n",
    "plt.ylabel('f(x)')\n",
    "plt.legend()\n",
    "plt.grid()\n",
    "plt.show()"
   ]
  },
  {
   "cell_type": "markdown",
   "id": "0937a73f",
   "metadata": {},
   "source": [
    "## Método da Bisseção\n",
    "\n",
    "O método da bisseção é um método numérico para encontrar os zeros de uma função que se baseia em dividir o intervalo pela metade repetidamente, até encontrar um valor próximo o suficiente do zero da função.\n",
    "\n",
    "### Passos do Método:\n",
    "1. Escolha dois pontos, `a` e `b`, tais que `f(a)` e `f(b)` tenham sinais opostos. Isso garante que existe pelo menos um zero da função nesse intervalo.\n",
    "2. Calcule o ponto médio `c = (a + b) / 2`.\n",
    "3. Verifique se `f(c)` é próximo de zero o suficiente (ou seja, menor que uma tolerância).\n",
    "4. Se `f(c)` não for suficientemente pequeno, determine em qual metade do intervalo está o zero e repita o processo."
   ]
  },
  {
   "cell_type": "code",
   "execution_count": null,
   "id": "cd24d1ae",
   "metadata": {},
   "outputs": [],
   "source": [
    "# Definindo o método da bisseção\n",
    "def bissecao(f, a, b, tol=1e-5):\n",
    "    if f(a) * f(b) >= 0:\n",
    "        raise ValueError(\"f(a) e f(b) devem ter sinais opostos\")\n",
    "    \n",
    "    c = (a + b) / 2\n",
    "    while abs(f(c)) > tol:\n",
    "        if f(a) * f(c) < 0:\n",
    "            b = c\n",
    "        else:\n",
    "            a = c\n",
    "        c = (a + b) / 2\n",
    "    return c"
   ]
  },
  {
   "cell_type": "markdown",
   "id": "422f7a92",
   "metadata": {},
   "source": [
    "### Aplicando o Método da Bisseção\n",
    "\n",
    "Vamos agora aplicar o método da bisseção ao nosso exemplo. Precisamos escolher um intervalo inicial `[a, b]` onde sabemos que existe um zero."
   ]
  },
  {
   "cell_type": "code",
   "execution_count": null,
   "id": "3b9d7f13",
   "metadata": {},
   "outputs": [],
   "source": [
    "# Definindo o intervalo inicial\n",
    "a = 0\n",
    "b = 5\n",
    "\n",
    "# Aplicando o método da bisseção\n",
    "zero_bissecao = bissecao(f, a, b)\n",
    "print(\"Zero da função (método da bisseção):\", zero_bissecao)"
   ]
  },
  {
   "cell_type": "markdown",
   "id": "9a11de8f",
   "metadata": {},
   "source": [
    "## Método de Newton-Raphson\n",
    "\n",
    "O método de Newton-Raphson é outro método numérico para encontrar os zeros de uma função. Este método utiliza a derivada da função para iterativamente aproximar os zeros.\n",
    "\n",
    "### Fórmula do Método:\n",
    "- x_{n+1} = x_n - f(x_n) / f'(x_n)\n",
    "\n",
    "### Passos do Método:\n",
    "1. Escolha um valor inicial `x0`.\n",
    "2. Calcule o próximo valor usando a fórmula acima.\n",
    "3. Repita o processo até que a diferença entre `x_n` e `x_{n+1}` seja suficientemente pequena.\n",
    "\n",
    "O método de Newton-Raphson é geralmente mais rápido que o método da bisseção, mas requer a derivada da função e um valor inicial próximo do zero."
   ]
  },
  {
   "cell_type": "code",
   "execution_count": null,
   "id": "7a479f40",
   "metadata": {},
   "outputs": [],
   "source": [
    "# Definindo a derivada da função\n",
    "def df(x):\n",
    "    return 2 * x"
   ]
  },
  {
   "cell_type": "code",
   "execution_count": null,
   "id": "10c7778e",
   "metadata": {},
   "outputs": [],
   "source": [
    "# Definindo o método de Newton-Raphson\n",
    "def newton_raphson(f, df, x0, tol=1e-5, max_iter=100):\n",
    "    x_n = x0\n",
    "    for _ in range(max_iter):\n",
    "        fx_n = f(x_n)\n",
    "        if abs(fx_n) < tol:\n",
    "            return x_n\n",
    "        dfx_n = df(x_n)\n",
    "        if dfx_n == 0:\n",
    "            raise ValueError(\"Derivada igual a zero. O método de Newton-Raphson falhou.\")\n",
    "        x_n = x_n - fx_n / dfx_n\n",
    "    raise ValueError(\"Número máximo de iterações excedido.\")"
   ]
  },
  {
   "cell_type": "markdown",
   "id": "ed5be088",
   "metadata": {},
   "source": [
    "### Aplicando o Método de Newton-Raphson\n",
    "\n",
    "Vamos agora aplicar o método de Newton-Raphson ao nosso exemplo. Precisamos escolher um valor inicial `x0` que esteja razoavelmente próximo do zero."
   ]
  },
  {
   "cell_type": "code",
   "execution_count": null,
   "id": "5facac5b",
   "metadata": {},
   "outputs": [],
   "source": [
    "# Valor inicial\n",
    "x0 = 5\n",
    "\n",
    "# Aplicando o método de Newton-Raphson\n",
    "zero_nr = newton_raphson(f, df, x0)\n",
    "print(\"Zero da função (método de Newton-Raphson):\", zero_nr)"
   ]
  },
  {
   "cell_type": "markdown",
   "id": "95ebac30",
   "metadata": {},
   "source": [
    "## Exercícios Adicionais\n",
    "\n",
    "### Exercício 1: Método da Bisseção\n",
    "Encontre o zero da função `f(x) = x^3 - 6x^2 + 11x - 6` utilizando o método da bisseção no intervalo `[2, 3]`."
   ]
  },
  {
   "cell_type": "code",
   "execution_count": null,
   "id": "9f0fa0de",
   "metadata": {},
   "outputs": [],
   "source": [
    "# Definindo a função para o exercício 1\n",
    "def f_ex1(x):\n",
    "    return x**3 - 6 * x**2 + 11 * x - 6\n",
    "\n",
    "a = 2\n",
    "b = 3\n",
    "\n",
    "# Aplicando o método da bisseção\n",
    "zero_ex1 = bissecao(f_ex1, a, b)\n",
    "print(\"Zero da função (Exercício 1 - Método da Bisseção):\", zero_ex1)"
   ]
  },
  {
   "cell_type": "markdown",
   "id": "f8d8f55b",
   "metadata": {},
   "source": [
    "### Exercício 2: Método de Newton-Raphson\n",
    "Encontre o zero da função `f(x) = x^3 - 4x + 1` utilizando o método de Newton-Raphson com valor inicial `x0 = 1.5`."
   ]
  },
  {
   "cell_type": "code",
   "execution_count": null,
   "id": "fa04c943",
   "metadata": {},
   "outputs": [],
   "source": [
    "# Definindo a função e sua derivada para o exercício 2\n",
    "def f_ex2(x):\n",
    "    return x**3 - 4 * x + 1\n",
    "\n",
    "def df_ex2(x):\n",
    "    return 3 * x**2 - 4\n",
    "\n",
    "x0_ex2 = 1.5\n",
    "\n",
    "# Aplicando o método de Newton-Raphson\n",
    "zero_ex2 = newton_raphson(f_ex2, df_ex2, x0_ex2)\n",
    "print(\"Zero da função (Exercício 2 - Método de Newton-Raphson):\", zero_ex2)"
   ]
  },
  {
   "cell_type": "markdown",
   "id": "ceb46fc0",
   "metadata": {},
   "source": [
    "## Conclusão\n",
    "\n",
    "Neste notebook, aprendemos como:\n",
    "1. Visualizar uma função para ter uma noção dos seus zeros.\n",
    "2. Utilizar o método da bisseção para encontrar um zero de uma função.\n",
    "3. Utilizar o método de Newton-Raphson para encontrar um zero de uma função.\n",
    "4. Resolver exercícios práticos para reforçar o aprendizado.\n",
    "\n",
    "### Onde Alterar para Outros Exemplos\n",
    "- **Função**: Modifique a definição da função `f(x)`.\n",
    "- **Derivada**: Modifique a definição da derivada `df(x)` se a função for alterada.\n",
    "- **Intervalo Inicial (Bisseção)**: Escolha um intervalo onde a função tenha sinais opostos nos extremos.\n",
    "- **Valor Inicial (Newton-Raphson)**: Escolha um valor inicial próximo de um possível zero da função.\n",
    "\n",
    "Espero que este notebook tenha sido útil para você entender como encontrar os zeros de uma função! Se precisar de mais exemplos ou alguma explicação adicional, é só pedir."
   ]
  }
 ],
 "metadata": {},
 "nbformat": 4,
 "nbformat_minor": 5
}
