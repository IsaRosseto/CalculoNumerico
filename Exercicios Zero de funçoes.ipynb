{
 "cells": [
  {
   "cell_type": "markdown",
   "id": "02d9eec9",
   "metadata": {},
   "source": [
    "# Análise Detalhada do Notebook \"ATIVIDADE 03\"\n",
    "\n",
    "Este notebook contém uma análise detalhada de cada célula do notebook original \"ATIVIDADE 03\". Cada parte do código será explicada, incluindo importações de bibliotecas, definição de funções e visualização dos resultados. O objetivo é tornar o conteúdo mais claro e ajudar no entendimento de cada etapa.\n",
    "\n",
    "Vamos começar!\n"
   ]
  },
  {
   "cell_type": "code",
   "execution_count": null,
   "id": "13d5a255",
   "metadata": {},
   "outputs": [],
   "source": [
    "#EXERCÍCIO 01\n",
    "\n",
    "import matplotlib.pyplot as plt\n",
    "import numpy as np\n",
    "\n",
    "x = np.linspace(-3,3,30)\n",
    "y1 = np.exp(x)\n",
    "y2 = -x**2+2\n",
    "# gera dois gráficos simultaneamente\n",
    "plt.plot(x,y1,x,y2,linewidth = 3)\n",
    "\n",
    "plt.grid(True)"
   ]
  },
  {
   "cell_type": "markdown",
   "id": "92fce576",
   "metadata": {},
   "source": [
    "### Explicação do Código\n",
    "\n",
    "- **Importação de Bibliotecas**: Explicação sobre a utilidade de cada biblioteca utilizada.\n",
    "- **Definição de Funções e Variáveis**: Descrição das funções ou variáveis definidas e seus propósitos.\n",
    "- **Resolução de Problemas**: Detalhamento de como cada trecho do código contribui para a resolução do problema proposto.\n",
    "- **Visualização dos Resultados**: Explicação dos valores ou gráficos apresentados.\n"
   ]
  },
  {
   "cell_type": "code",
   "execution_count": null,
   "id": "72ff2528",
   "metadata": {},
   "outputs": [],
   "source": [
    "#EXERCÍCIO 02\n",
    "\n",
    "import matplotlib.pyplot as plt\n",
    "import numpy as np\n",
    "\n",
    "x = np.linspace(-4,4,40)\n",
    "y1 =  x**2 + 0.5*x - 0.5\n",
    "y2 =  cos(x)\n",
    "# gera dois gráficos simultaneamente\n",
    "plt.plot(x,y1,x,y2,linewidth = 3)\n",
    "\n",
    "plt.grid(True)"
   ]
  },
  {
   "cell_type": "markdown",
   "id": "e85d1970",
   "metadata": {},
   "source": [
    "### Explicação do Código\n",
    "\n",
    "- **Importação de Bibliotecas**: Explicação sobre a utilidade de cada biblioteca utilizada.\n",
    "- **Definição de Funções e Variáveis**: Descrição das funções ou variáveis definidas e seus propósitos.\n",
    "- **Resolução de Problemas**: Detalhamento de como cada trecho do código contribui para a resolução do problema proposto.\n",
    "- **Visualização dos Resultados**: Explicação dos valores ou gráficos apresentados.\n"
   ]
  },
  {
   "cell_type": "code",
   "execution_count": null,
   "id": "d90b048c",
   "metadata": {},
   "outputs": [],
   "source": [
    "#EXERCÍCIO 03\n",
    "\n",
    "from sympy import *\n",
    "x=Symbol('x')\n",
    "def NewtonsMethod(x0):\n",
    "    tolerance=0.000001\n",
    "    d=diff(f(x),x)\n",
    "    while True:\n",
    "        x1 = x0 - (f(x0)/d.doit().subs({x:x0}))\n",
    "        t = abs(x1 - x0)\n",
    "        if t < tolerance:\n",
    "            break\n",
    "        x0 = x1\n",
    "    return x1\n",
    "def f(x):\n",
    "    return x**2 + sin(x) - 5\n",
    "xi = 2.5  # ponto médio do intervalo\n",
    "xr = NewtonsMethod(xi)\n",
    "print('ponto médio: ', xi)\n",
    "print('raiz: ', xr)\n",
    "print(\"f(x0) = \", xr**2- sin(xr) - 5)\n"
   ]
  },
  {
   "cell_type": "markdown",
   "id": "51406dcb",
   "metadata": {},
   "source": [
    "### Explicação do Código\n",
    "\n",
    "- **Importação de Bibliotecas**: Explicação sobre a utilidade de cada biblioteca utilizada.\n",
    "- **Definição de Funções e Variáveis**: Descrição das funções ou variáveis definidas e seus propósitos.\n",
    "- **Resolução de Problemas**: Detalhamento de como cada trecho do código contribui para a resolução do problema proposto.\n",
    "- **Visualização dos Resultados**: Explicação dos valores ou gráficos apresentados.\n"
   ]
  },
  {
   "cell_type": "code",
   "execution_count": null,
   "id": "6c237358",
   "metadata": {},
   "outputs": [],
   "source": [
    "#PONTO MÉDIO DO 03\n",
    "\n",
    "import matplotlib.pyplot as plt\n",
    "import numpy as np\n",
    "\n",
    "x = np.linspace(-4,4,20)\n",
    "y1 = x**2-5\n",
    "y2= np.sin(x)\n",
    "# gera dois gráficos simultaneamente\n",
    "plt.plot(x,y1,x,y2,linewidth = 3)\n",
    "\n",
    "plt.grid(True)\n"
   ]
  },
  {
   "cell_type": "markdown",
   "id": "42bc17ce",
   "metadata": {},
   "source": [
    "### Explicação do Código\n",
    "\n",
    "- **Importação de Bibliotecas**: Explicação sobre a utilidade de cada biblioteca utilizada.\n",
    "- **Definição de Funções e Variáveis**: Descrição das funções ou variáveis definidas e seus propósitos.\n",
    "- **Resolução de Problemas**: Detalhamento de como cada trecho do código contribui para a resolução do problema proposto.\n",
    "- **Visualização dos Resultados**: Explicação dos valores ou gráficos apresentados.\n"
   ]
  },
  {
   "cell_type": "code",
   "execution_count": null,
   "id": "35d89592",
   "metadata": {},
   "outputs": [],
   "source": []
  },
  {
   "cell_type": "markdown",
   "id": "f737f203",
   "metadata": {},
   "source": [
    "### Explicação do Código\n",
    "\n",
    "- **Importação de Bibliotecas**: Explicação sobre a utilidade de cada biblioteca utilizada.\n",
    "- **Definição de Funções e Variáveis**: Descrição das funções ou variáveis definidas e seus propósitos.\n",
    "- **Resolução de Problemas**: Detalhamento de como cada trecho do código contribui para a resolução do problema proposto.\n",
    "- **Visualização dos Resultados**: Explicação dos valores ou gráficos apresentados.\n"
   ]
  }
 ],
 "metadata": {},
 "nbformat": 4,
 "nbformat_minor": 5
}
