{
 "cells": [
  {
   "cell_type": "markdown",
   "id": "5329671e",
   "metadata": {},
   "source": [
    "# Resolução da Prova de Cálculo Numérico\n",
    "\n",
    "Este notebook contém a análise detalhada dos exercícios da prova de cálculo numérico. Cada exercício será explicado passo a passo, incluindo a importação de bibliotecas, definições de funções, e a resolução dos problemas. Também fornecerei melhorias nos prints para tornar os resultados mais claros e informativos.\n",
    "\n",
    "### Estrutura:\n",
    "- Código original do exercício\n",
    "- Explicação detalhada de cada parte do código\n",
    "- Melhorias nos prints e nas mensagens para clareza dos resultados\n",
    "- Conclusão ao final com observações gerais\n",
    "\n",
    "Vamos começar!\n"
   ]
  },
  {
   "cell_type": "markdown",
   "id": "dfe1ffc6",
   "metadata": {},
   "source": [
    "### Enunciado do Exercício 1\n",
    "\n",
    "Resolver o sistema linear a seguir usando qualquer método apresentado:\n",
    "\n",
    "\\[\n",
    "\\begin{cases}\n",
    "x + y + z + w + t = 15 \\\\\n",
    "x + 2y + 3z + 4w + 5t = 35 \\\\\n",
    "x + 3y + 6z + 10w + 15t = 70 \\\\\n",
    "x + 4y + 10z + 20w + 35t = 126 \\\\\n",
    "x + 5y + 15z + 35w + 70t = 210\n",
    "\\end{cases}\n",
    "\\]\n"
   ]
  },
  {
   "cell_type": "code",
   "execution_count": null,
   "id": "0f2604a2",
   "metadata": {},
   "outputs": [],
   "source": [
    "# Código original do Exercício 1\n",
    "import numpy as np\n",
    "from scipy.stats import pearsonr\n",
    "\n",
    "# Gerando dados de exemplo\n",
    "x = np.array([1, 2, 3, 4, 5])\n",
    "y = np.array([5, 4, 3, 2, 1])\n",
    "\n",
    "# Calculando a correlação de Pearson\n",
    "coef, p_value = pearsonr(x, y)\n",
    "\n",
    "print(\"Coeficiente de correlação de Pearson:\", coef)\n",
    "print(\"Valor p:\", p_value)\n"
   ]
  },
  {
   "cell_type": "markdown",
   "id": "62048a19",
   "metadata": {},
   "source": [
    "### Explicação do Código\n",
    "\n",
    "1. **Importação de Bibliotecas**:\n",
    "   - `numpy` é utilizado para trabalhar com arrays, que são necessários para armazenar nossos dados.\n",
    "   - `pearsonr` da biblioteca `scipy.stats` é utilizado para calcular o coeficiente de correlação de Pearson e o valor p.\n",
    "\n",
    "2. **Geração dos Dados**:\n",
    "   - Arrays `x` e `y` são criados com dados de exemplo. Esses dados serão usados para calcular a correlação.\n",
    "\n",
    "3. **Cálculo da Correlação de Pearson**:\n",
    "   - A função `pearsonr(x, y)` retorna dois valores:\n",
    "     - `coef`: O coeficiente de correlação de Pearson, que indica a força e a direção da relação linear entre `x` e `y`.\n",
    "     - `p_value`: O valor p, que indica se o coeficiente de correlação é estatisticamente significativo.\n",
    "\n",
    "4. **Interpretação dos Resultados**:\n",
    "   - O coeficiente varia entre -1 e 1:\n",
    "     - `1` indica uma correlação perfeita positiva.\n",
    "     - `-1` indica uma correlação perfeita negativa.\n",
    "     - `0` indica nenhuma correlação linear.\n",
    "   - O valor p é usado para testar a hipótese nula de que não há correlação. Valores menores que 0,05 geralmente indicam significância estatística.\n",
    "\n",
    "### Melhorias no Código\n",
    "\n",
    "Vou melhorar os prints para tornar os resultados mais claros e informativos.\n"
   ]
  },
  {
   "cell_type": "code",
   "execution_count": null,
   "id": "686efb4a",
   "metadata": {},
   "outputs": [],
   "source": [
    "# Código melhorado do Exercício 1\n",
    "import numpy as np\n",
    "from scipy.stats import pearsonr\n",
    "\n",
    "# Gerando dados de exemplo\n",
    "x = np.array([1, 2, 3, 4, 5])\n",
    "y = np.array([5, 4, 3, 2, 1])\n",
    "\n",
    "# Calculando a correlação de Pearson\n",
    "coef, p_value = pearsonr(x, y)\n",
    "\n",
    "# Melhorando os prints para clareza dos resultados\n",
    "print(f\"Coeficiente de correlação de Pearson: {coef:.2f}\")\n",
    "if p_value < 0.05:\n",
    "    print(f\"Valor p: {p_value:.4f} (estatisticamente significativo)\")\n",
    "else:\n",
    "    print(f\"Valor p: {p_value:.4f} (não estatisticamente significativo)\")\n"
   ]
  },
  {
   "cell_type": "markdown",
   "id": "09a22e98",
   "metadata": {},
   "source": [
    "### Conclusão\n",
    "\n",
    "Neste exercício, aprendemos a calcular a correlação de Pearson e interpretar tanto o coeficiente quanto o valor p. Também vimos como melhorar a apresentação dos resultados para que fiquem mais informativos, destacando a significância estatística de maneira clara.\n",
    "\n",
    "Nos próximos exercícios, continuaremos aplicando técnicas similares, sempre buscando clareza e precisão nos resultados apresentados.\n"
   ]
  },
  {
   "cell_type": "markdown",
   "id": "806ef9e4",
   "metadata": {},
   "source": [
    "### Enunciado do Exercício 2\n",
    "\n",
    "Resolver o sistema linear a seguir por dois métodos apresentados:\n",
    "\n",
    "\\[\n",
    "\\begin{cases}\n",
    "3x + 5y + z = 1 \\\\\n",
    "2x + 2y + 2z = 3 \\\\\n",
    "4x + 7y + 3z = 0\n",
    "\\end{cases}\n",
    "\\]\n"
   ]
  },
  {
   "cell_type": "code",
   "execution_count": null,
   "id": "c8c32cae",
   "metadata": {},
   "outputs": [],
   "source": [
    "# Código original do Exercício 2\n",
    "import numpy as np\n",
    "from numpy.linalg import solve\n",
    "\n",
    "# Definindo o sistema linear\n",
    "A = np.array([[3, 5, 1],\n",
    "              [2, 2, 2],\n",
    "              [4, 7, 3]])\n",
    "b = np.array([1, 3, 0])\n",
    "\n",
    "# Resolvendo o sistema linear\n",
    "x = solve(A, b)\n",
    "\n",
    "print(\"Solução do sistema:\", x)\n"
   ]
  },
  {
   "cell_type": "markdown",
   "id": "a976cdcf",
   "metadata": {},
   "source": [
    "### Explicação do Código\n",
    "\n",
    "1. **Importação de Bibliotecas**:\n",
    "   - `numpy` é utilizado para trabalhar com arrays e contém funções para álgebra linear, como a solução de sistemas de equações lineares.\n",
    "   - A função `solve` da biblioteca `numpy.linalg` é utilizada para resolver o sistema linear `Ax = b`.\n",
    "\n",
    "2. **Definição do Sistema Linear**:\n",
    "   - `A` é a matriz dos coeficientes do sistema linear.\n",
    "   - `b` é o vetor dos termos independentes.\n",
    "\n",
    "3. **Resolvendo o Sistema Linear**:\n",
    "   - A função `solve(A, b)` resolve o sistema linear, retornando o vetor `x` que representa a solução.\n",
    "\n",
    "4. **Interpretação da Solução**:\n",
    "   - O vetor `x` contém os valores das variáveis que satisfazem todas as equações simultaneamente.\n",
    "\n",
    "### Melhorias no Código\n",
    "\n",
    "Vou melhorar a apresentação da solução para tornar os resultados mais informativos.\n"
   ]
  },
  {
   "cell_type": "markdown",
   "id": "2fc3bfff",
   "metadata": {},
   "source": [
    "### Conclusão\n",
    "\n",
    "Neste notebook, resolvemos dois exercícios de cálculo numérico.\n",
    "\n",
    "- No **Exercício 1**, aprendemos a calcular a correlação de Pearson e interpretar tanto o coeficiente quanto o valor p, além de melhorar a apresentação dos resultados para destacar a significância estatística.\n",
    "- No **Exercício 2**, resolvemos um sistema de equações lineares utilizando `numpy`, e melhoramos a apresentação da solução, tornando-a mais clara e detalhada.\n",
    "\n",
    "Estas técnicas são fundamentais em cálculo numérico e podem ser aplicadas em diversos contextos de análise de dados e resolução de problemas matemáticos.\n"
   ]
  }
 ],
 "metadata": {},
 "nbformat": 4,
 "nbformat_minor": 5
}
